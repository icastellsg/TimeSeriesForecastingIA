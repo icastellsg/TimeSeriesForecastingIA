{
 "cells": [
  {
   "cell_type": "markdown",
   "metadata": {},
   "source": [
    "# Predicciones temporales con modelos de IA\n",
    "\n",
    "Dentro de este cuaderno de Jupyter se estudiarán distintos modelos de IA para llevar a cabo predicciones sobre series temporales. Los distintos apartados que se presentarán en el cuaderno son:\n",
    "\n",
    " 1. Carga de librerias, modelos y herramientas a utilizar\n",
    " 2. Análisis y preprocesamiento de datos\n",
    " 3. Creación y estudio de predicciones con LSTM\n",
    " 4. Creación y estudio de predicciones con Prophet\n",
    " 5. Creación y estudio de predicciones con TimeGPT\n",
    " 6. Análisis de resultados y modelo a usar"
   ]
  },
  {
   "cell_type": "markdown",
   "metadata": {},
   "source": [
    "## 1. Carga de librerias, modelos y herramientas"
   ]
  },
  {
   "cell_type": "code",
   "execution_count": null,
   "metadata": {},
   "outputs": [],
   "source": [
    "import pandas as pd\n",
    "import matplotlib.pyplot as plt\n",
    "from utilsforecast.preprocessing import fill_gaps"
   ]
  },
  {
   "cell_type": "markdown",
   "metadata": {},
   "source": [
    "Para este primer acercamiento se tomará como referencia los datos del sensor Suntracer localizado en el Edificio Centro de Investigaciones Tecnológicas de la Información y las Comunicaciones"
   ]
  },
  {
   "cell_type": "code",
   "execution_count": null,
   "metadata": {},
   "outputs": [],
   "source": [
    "# Load the data\n",
    "data = pd.read_csv('data/wot-data-db.interactions-datas_suntracer_temperature.csv')\n",
    "data['timestamp'] = pd.to_datetime(data['timestamp']).dt.round(\"min\").dt.tz_localize(None)\n",
    "#Rename the column of data value to temperature\n",
    "data.rename(columns = {'data.value':'temperature (Cº)'}, inplace = True)\n",
    "\n",
    "df = data[['timestamp', 'temperature (Cº)']]\n",
    "\n",
    "\n",
    "df.head(15)"
   ]
  },
  {
   "cell_type": "code",
   "execution_count": null,
   "metadata": {},
   "outputs": [],
   "source": [
    "# Plot the data\n",
    "plt.figure(figsize=(10,6))\n",
    "plt.plot(df['timestamp'], df['temperature (Cº)'])\n",
    "plt.title('Suntracer temperature')\n",
    "plt.ylabel('Temperature')\n",
    "plt.show()"
   ]
  },
  {
   "cell_type": "markdown",
   "metadata": {},
   "source": [
    "Los datos completos del Suntracer no son favorables a ser tratados directamente dentro del modelo debido a distintos problemas:\n",
    "- Datos extremos y, probablemente, erróneos como temperaturas de -40º o 70º\n",
    "- Ausencia de datos por largos periodos temporales, como lo son del 2023-05-16 al 2024-01-09"
   ]
  },
  {
   "cell_type": "markdown",
   "metadata": {},
   "source": [
    "### Datos extremos\n",
    "\n",
    "##### Temperaturas mínimas de -40º y máximas de 70º"
   ]
  },
  {
   "cell_type": "code",
   "execution_count": null,
   "metadata": {},
   "outputs": [],
   "source": [
    "df.describe().transpose()"
   ]
  },
  {
   "cell_type": "markdown",
   "metadata": {},
   "source": [
    "### Ausencia de datos por largos periodos"
   ]
  },
  {
   "cell_type": "code",
   "execution_count": null,
   "metadata": {},
   "outputs": [],
   "source": [
    "# Dataframe auxiliar para mostrar datos faltantes\n",
    "test_missing_data = df.copy()\n",
    "test_missing_data.set_index('timestamp', inplace=True)"
   ]
  },
  {
   "cell_type": "markdown",
   "metadata": {},
   "source": [
    "##### 16/5/2023 - 8/1/2024"
   ]
  },
  {
   "cell_type": "code",
   "execution_count": null,
   "metadata": {},
   "outputs": [],
   "source": [
    "missing_6_months = test_missing_data['2023-05-16':'2024-01-08']\n",
    "missing_6_months.head()"
   ]
  },
  {
   "cell_type": "markdown",
   "metadata": {},
   "source": [
    "##### 27/2/2024 - 13/5/2024"
   ]
  },
  {
   "cell_type": "code",
   "execution_count": null,
   "metadata": {},
   "outputs": [],
   "source": [
    "missing_3_months = test_missing_data['2024-02-27':'2024-05-13']\n",
    "missing_3_months.head()"
   ]
  },
  {
   "cell_type": "markdown",
   "metadata": {},
   "source": [
    "##### 19/6/2024 - 30/6/2024"
   ]
  },
  {
   "cell_type": "code",
   "execution_count": null,
   "metadata": {},
   "outputs": [],
   "source": [
    "# Check for data between 2024-06-18 and 2024-07-01 to prove the missing values and values are taken weirdly\n",
    "missing_actual = test_missing_data['2024-06-19':'2024-06-30']\n",
    "missing_actual.head()"
   ]
  },
  {
   "cell_type": "markdown",
   "metadata": {},
   "source": [
    "Debido a todos estos problemas, se ha optado por tomar únicamente el tramo entre marzo y mayo de 2023"
   ]
  },
  {
   "cell_type": "code",
   "execution_count": null,
   "metadata": {},
   "outputs": [],
   "source": [
    "reduced_df = df[(df['timestamp'] >= '2023-03-01') & (df['timestamp'] <= '2023-05-15')]\n",
    "reduced_df.describe().transpose()"
   ]
  },
  {
   "cell_type": "code",
   "execution_count": null,
   "metadata": {},
   "outputs": [],
   "source": [
    "plt.figure(figsize=(10,6))\n",
    "plt.plot(reduced_df['timestamp'], reduced_df['temperature (Cº)'])\n",
    "plt.title('Suntracer temperature')\n",
    "plt.ylabel('Temperature')\n",
    "plt.show()"
   ]
  },
  {
   "cell_type": "code",
   "execution_count": null,
   "metadata": {},
   "outputs": [],
   "source": [
    "# Boxplot (pendiente de estudiar varios valores)\n",
    "plt.figure(figsize=(10,6))\n",
    "plt.boxplot(reduced_df['temperature (Cº)'])\n",
    "plt.ylabel('Temperature')\n",
    "plt.show()\n"
   ]
  },
  {
   "cell_type": "markdown",
   "metadata": {},
   "source": [
    "Antes de continuar con la elaboración y análisis de los distintos modelos, es necesario completar un preprocesamiento de los datos. Esto supone tratar los valores duplicados para obtener un único valor a partir de su media además de añadir con interpolación los valores faltantes (hay minutos que no se encuentran disponible). Estudiaremos las consecuencias de la interpolación en completed_df"
   ]
  },
  {
   "cell_type": "markdown",
   "metadata": {},
   "source": [
    "### Registros duplicados"
   ]
  },
  {
   "cell_type": "code",
   "execution_count": null,
   "metadata": {},
   "outputs": [],
   "source": [
    "print('Número de registros duplicados:', reduced_df.duplicated(subset='timestamp').sum())\n",
    "reduced_df = reduced_df.groupby('timestamp').mean().reset_index()\n",
    "print('Número de registros duplicados:', reduced_df.duplicated(subset='timestamp').sum())\n",
    "\n",
    "reduced_df.describe().transpose()"
   ]
  },
  {
   "cell_type": "code",
   "execution_count": null,
   "metadata": {},
   "outputs": [],
   "source": [
    "reduced_df.head(10)"
   ]
  },
  {
   "cell_type": "code",
   "execution_count": null,
   "metadata": {},
   "outputs": [],
   "source": [
    "plt.figure(figsize=(10,6))\n",
    "plt.plot(reduced_df['timestamp'], reduced_df['temperature (Cº)'])\n",
    "plt.xlabel('Timestamp')\n",
    "plt.ylabel('Temperature')\n",
    "plt.title('Temperature over Time')\n",
    "plt.show()"
   ]
  },
  {
   "cell_type": "markdown",
   "metadata": {},
   "source": [
    "### Interpolación de valores faltantes"
   ]
  },
  {
   "cell_type": "code",
   "execution_count": null,
   "metadata": {},
   "outputs": [],
   "source": [
    "print(\"Original data: \", len(reduced_df), \"rows\")\n",
    "gaps = reduced_df[['timestamp', 'temperature (Cº)']]\n",
    "\n",
    "# Adaptamos el dataset a las necesidades de la función fill_gaps\n",
    "gaps.rename(columns={'timestamp': 'ds', 'temperature (Cº)': 'y'}, inplace=True)\n",
    "gaps['ds'] = pd.to_datetime(gaps['ds'])\n",
    "gaps['unique_id'] = 'suntracer_temperature'\n",
    "gaps = gaps[['unique_id', 'ds', 'y']]\n",
    "gaps.head()\n",
    "completed_df = fill_gaps(gaps, freq='min')\n",
    "print(\"Filled data: \", len(completed_df), \"rows\")\n",
    "\n",
    "\n",
    "\n",
    "completed_df['y'] = completed_df['y'].interpolate(method='linear', limit_direction='both')\n",
    "completed_df.describe().transpose()"
   ]
  },
  {
   "cell_type": "code",
   "execution_count": null,
   "metadata": {},
   "outputs": [],
   "source": [
    "# Plot the data\n",
    "plt.figure(figsize=(10,6))\n",
    "plt.plot(completed_df['ds'], completed_df['y'])\n",
    "plt.xlabel('Timestamp')\n",
    "plt.ylabel('Temperature')\n",
    "plt.title('Temperature over Time')\n",
    "plt.show()"
   ]
  },
  {
   "cell_type": "markdown",
   "metadata": {},
   "source": [
    "Testing with TimeGPT without treating the data"
   ]
  },
  {
   "cell_type": "code",
   "execution_count": null,
   "metadata": {},
   "outputs": [],
   "source": [
    "from nixtla import NixtlaClient\n",
    "nixtla_client = NixtlaClient(\n",
    "    api_key='nixtla-tok-0Xy1KrijueISj5UTfxyGuceKmM8KuLVGO1b92Xs1i3DZB0bUvmr2CjtSqjHn9UlTQokrx3Wl8C7dnOlE')\n",
    "nixtla_client.validate_api_key()"
   ]
  },
  {
   "cell_type": "code",
   "execution_count": null,
   "metadata": {},
   "outputs": [],
   "source": [
    "nixtla_client.plot(reduced_df,time_col='timestamp', target_col='temperature (Cº)')"
   ]
  },
  {
   "cell_type": "code",
   "execution_count": null,
   "metadata": {},
   "outputs": [],
   "source": [
    "#Separate to training and test data to predict the temperature\n",
    "test = reduced_df.tail(15)\n",
    "train = reduced_df.apply(lambda x: x.iloc[:-15]).reset_index(drop=True)\n",
    "\n",
    "test_filled = completed_df.tail(15)\n",
    "train_filled = completed_df.apply(lambda x: x.iloc[:-15]).reset_index(drop=True)\n",
    "\n",
    "train.tail()"
   ]
  },
  {
   "cell_type": "code",
   "execution_count": null,
   "metadata": {},
   "outputs": [],
   "source": [
    "test.head()"
   ]
  },
  {
   "cell_type": "code",
   "execution_count": null,
   "metadata": {},
   "outputs": [],
   "source": [
    "# Forecast 15 minutes ahead\n",
    "forecast = nixtla_client.forecast(\n",
    "    df=train, \n",
    "    h=15, \n",
    "    freq='min',\n",
    "    finetune_steps=10,\n",
    "    finetune_loss='mae', \n",
    "    time_col='timestamp', \n",
    "    target_col='temperature (Cº)')"
   ]
  },
  {
   "cell_type": "code",
   "execution_count": null,
   "metadata": {},
   "outputs": [],
   "source": [
    "forecast.head()\n"
   ]
  },
  {
   "cell_type": "code",
   "execution_count": null,
   "metadata": {},
   "outputs": [],
   "source": [
    "nixtla_client.plot(reduced_df, forecast, time_col='timestamp', target_col='temperature (Cº)')"
   ]
  },
  {
   "cell_type": "code",
   "execution_count": null,
   "metadata": {},
   "outputs": [],
   "source": [
    "nixtla_client.plot(train, forecast, time_col='timestamp', target_col='temperature (Cº)', max_insample_length=60)"
   ]
  },
  {
   "cell_type": "code",
   "execution_count": null,
   "metadata": {},
   "outputs": [],
   "source": [
    "nixtla_client.plot(test, forecast, time_col='timestamp', target_col='temperature (Cº)')"
   ]
  },
  {
   "cell_type": "markdown",
   "metadata": {},
   "source": [
    "Detección de anomalias dentro de TimeGPT"
   ]
  },
  {
   "cell_type": "code",
   "execution_count": null,
   "metadata": {},
   "outputs": [],
   "source": [
    "anomalies_df = nixtla_client.detect_anomalies(train, time_col='timestamp', target_col='temperature (Cº)', freq='min')\n",
    "nixtla_client.plot(train, anomalies_df, time_col='timestamp', target_col='temperature')"
   ]
  },
  {
   "cell_type": "code",
   "execution_count": null,
   "metadata": {},
   "outputs": [],
   "source": [
    "#forecast['timestamp'] = pd.to_datetime(forecast['timestamp'])\n",
    "\n",
    "\n",
    "#test = pd.merge(test, forecast, on='timestamp', how='left')"
   ]
  },
  {
   "cell_type": "markdown",
   "metadata": {},
   "source": [
    "### Forecast with treated Data"
   ]
  },
  {
   "cell_type": "code",
   "execution_count": null,
   "metadata": {},
   "outputs": [],
   "source": [
    "forecast_without_gaps = nixtla_client.forecast(\n",
    "    df = train_filled,\n",
    "    h = 15,\n",
    "    finetune_steps=10,\n",
    "    finetune_loss='mae',\n",
    "    time_col='ds',\n",
    "    target_col='y',\n",
    "    #model='timegpt-1-long-horizon'\n",
    "    )"
   ]
  },
  {
   "cell_type": "code",
   "execution_count": null,
   "metadata": {},
   "outputs": [],
   "source": [
    "forecast_without_gaps.head()"
   ]
  },
  {
   "cell_type": "code",
   "execution_count": null,
   "metadata": {},
   "outputs": [],
   "source": [
    "nixtla_client.plot(train_filled, forecast_without_gaps, time_col='ds', target_col='y', max_insample_length=60)"
   ]
  },
  {
   "cell_type": "code",
   "execution_count": null,
   "metadata": {},
   "outputs": [],
   "source": [
    "nixtla_client.plot(test_filled, forecast_without_gaps, time_col='ds', target_col='y', max_insample_length=60)"
   ]
  },
  {
   "cell_type": "code",
   "execution_count": null,
   "metadata": {},
   "outputs": [],
   "source": [
    "# Evaluate the model\n",
    "from utilsforecast.evaluation import evaluate\n",
    "from utilsforecast.losses import mae, mse, rmse"
   ]
  },
  {
   "cell_type": "code",
   "execution_count": null,
   "metadata": {},
   "outputs": [],
   "source": [
    "forecast_without_gaps['ds'] = pd.to_datetime(forecast_without_gaps['ds'])\n",
    "\n",
    "results_without_gaps = completed_df.merge(forecast_without_gaps, on=['ds', 'unique_id'], how='left')\n",
    "results_without_gaps.tail()"
   ]
  },
  {
   "cell_type": "code",
   "execution_count": null,
   "metadata": {},
   "outputs": [],
   "source": [
    "forecast.tail()"
   ]
  },
  {
   "cell_type": "code",
   "execution_count": null,
   "metadata": {},
   "outputs": [],
   "source": [
    "forecast['timestamp'] = pd.to_datetime(forecast['timestamp'])\n",
    "\n",
    "results = reduced_df.merge(forecast, on=['timestamp'], how='left')\n",
    "results.rename(columns={'timestamp': 'ds', 'temperature (Cº)': 'y'}, inplace=True)\n",
    "results['unique_id'] = 'suntracer_temperature'\n",
    "results.tail(20)"
   ]
  },
  {
   "cell_type": "code",
   "execution_count": null,
   "metadata": {},
   "outputs": [],
   "source": [
    "evaluate(results_without_gaps, metrics=[mae, mse, rmse])"
   ]
  },
  {
   "cell_type": "code",
   "execution_count": null,
   "metadata": {},
   "outputs": [],
   "source": [
    "evaluate(results, metrics=[mae, mse, rmse])"
   ]
  },
  {
   "cell_type": "markdown",
   "metadata": {},
   "source": [
    "## Prophet"
   ]
  },
  {
   "cell_type": "code",
   "execution_count": null,
   "metadata": {},
   "outputs": [],
   "source": [
    "from prophet import Prophet\n",
    "from prophet.plot import plot_plotly, plot_components_plotly"
   ]
  },
  {
   "cell_type": "code",
   "execution_count": null,
   "metadata": {},
   "outputs": [],
   "source": [
    "m = Prophet()\n",
    "m.fit(train_filled)"
   ]
  },
  {
   "cell_type": "code",
   "execution_count": null,
   "metadata": {},
   "outputs": [],
   "source": [
    "train_filled.tail()"
   ]
  },
  {
   "cell_type": "code",
   "execution_count": null,
   "metadata": {},
   "outputs": [],
   "source": [
    "future = m.make_future_dataframe(periods=15, freq='min')\n",
    "future.tail(15)"
   ]
  },
  {
   "cell_type": "code",
   "execution_count": null,
   "metadata": {},
   "outputs": [],
   "source": [
    "forecast_prophet = m.predict(future)\n",
    "forecast_prophet[['ds', 'yhat', 'yhat_lower', 'yhat_upper']].tail()"
   ]
  },
  {
   "cell_type": "code",
   "execution_count": null,
   "metadata": {},
   "outputs": [],
   "source": [
    "fig1 = m.plot(forecast_prophet)"
   ]
  },
  {
   "cell_type": "code",
   "execution_count": null,
   "metadata": {},
   "outputs": [],
   "source": [
    "fig2 = m.plot_components(forecast_prophet)"
   ]
  },
  {
   "cell_type": "code",
   "execution_count": null,
   "metadata": {},
   "outputs": [],
   "source": [
    "#https://facebook.github.io/prophet/docs/additional_topics.html#saving-models\n",
    "from neuralprophet import NeuralProphet"
   ]
  },
  {
   "cell_type": "code",
   "execution_count": null,
   "metadata": {},
   "outputs": [],
   "source": [
    "completed_df.head()\n",
    "neuralProphet_df = completed_df.copy()\n",
    "neuralProphet_df = neuralProphet_df[['ds', 'y']]\n",
    "neuralProphet_df.head()"
   ]
  },
  {
   "cell_type": "code",
   "execution_count": null,
   "metadata": {},
   "outputs": [],
   "source": [
    "n = NeuralProphet()\n",
    "# Uncomment this line if you're on a Jupyter notebook\n",
    "#n.set_plotting_backend('plotly-static')\n",
    "n_metrics = n.fit(neuralProphet_df)"
   ]
  },
  {
   "cell_type": "code",
   "execution_count": null,
   "metadata": {},
   "outputs": [],
   "source": [
    "forecast_neural = n.predict(neuralProphet_df)"
   ]
  },
  {
   "cell_type": "code",
   "execution_count": null,
   "metadata": {},
   "outputs": [],
   "source": [
    "n.plot(forecast_neural)"
   ]
  },
  {
   "cell_type": "code",
   "execution_count": null,
   "metadata": {},
   "outputs": [],
   "source": [
    "n.plot_parameters()"
   ]
  },
  {
   "cell_type": "code",
   "execution_count": null,
   "metadata": {},
   "outputs": [],
   "source": [
    "# Mejoramos el modelo con Autoregresión y uncertainty\n",
    "n = NeuralProphet(n_lags=10, quantiles=[0.05, 0.95])\n",
    "n_metrics = n.fit(neuralProphet_df)\n",
    "forecast_neural = n.predict(neuralProphet_df)"
   ]
  },
  {
   "cell_type": "code",
   "execution_count": null,
   "metadata": {},
   "outputs": [],
   "source": [
    "n.highlight_nth_step_ahead_of_each_forecast(1).plot(forecast_neural)"
   ]
  },
  {
   "cell_type": "code",
   "execution_count": null,
   "metadata": {},
   "outputs": [],
   "source": [
    "# Train and Validation\n",
    "test_prophet = neuralProphet_df.tail(15)\n",
    "train_prophet = neuralProphet_df.apply(lambda x: x.iloc[:-15]).reset_index(drop=True)\n",
    "train_prophet.tail()"
   ]
  },
  {
   "cell_type": "code",
   "execution_count": null,
   "metadata": {},
   "outputs": [],
   "source": [
    "test_prophet.head(15)"
   ]
  },
  {
   "cell_type": "code",
   "execution_count": null,
   "metadata": {},
   "outputs": [],
   "source": [
    "n_validator = NeuralProphet()\n",
    "n_metrics = n_validator.fit(train_prophet, validation_df=test_prophet)\n",
    "n_metrics"
   ]
  },
  {
   "cell_type": "code",
   "execution_count": null,
   "metadata": {},
   "outputs": [],
   "source": [
    "# Hacer predicciones en el futuro\n",
    "future = n.make_future_dataframe(neuralProphet_df, periods=15)\n",
    "forecast_future = n.predict(future)\n",
    "forecast_future.tail()"
   ]
  },
  {
   "cell_type": "markdown",
   "metadata": {},
   "source": [
    "### LSMT"
   ]
  },
  {
   "cell_type": "code",
   "execution_count": null,
   "metadata": {},
   "outputs": [],
   "source": []
  }
 ],
 "metadata": {
  "kernelspec": {
   "display_name": "Python 3 (ipykernel)",
   "language": "python",
   "name": "python3"
  },
  "language_info": {
   "codemirror_mode": {
    "name": "ipython",
    "version": 3
   },
   "file_extension": ".py",
   "mimetype": "text/x-python",
   "name": "python",
   "nbconvert_exporter": "python",
   "pygments_lexer": "ipython3",
   "version": "3.12.4"
  }
 },
 "nbformat": 4,
 "nbformat_minor": 2
}
